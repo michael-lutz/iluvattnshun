{
 "cells": [
  {
   "cell_type": "markdown",
   "metadata": {},
   "source": [
    "# Visualizing Var Rename Activations"
   ]
  },
  {
   "cell_type": "code",
   "execution_count": null,
   "metadata": {},
   "outputs": [],
   "source": [
    "import torch\n",
    "import numpy as np\n",
    "\n",
    "from iluvattnshun.utils import load_checkpoint, load_config_from_yaml\n",
    "from iluvattnshun.nn import MultilayerTransformer\n",
    "\n",
    "from var_rename import VariableRenamingConfig, VariableRenamingPrompter\n",
    "from iluvattnshun.viz import get_fig"
   ]
  },
  {
   "cell_type": "code",
   "execution_count": 2,
   "metadata": {},
   "outputs": [],
   "source": [
    "config_path = \"your config path...\"\n",
    "ckpt_path = \"your checkpoint path...\""
   ]
  },
  {
   "cell_type": "code",
   "execution_count": null,
   "metadata": {},
   "outputs": [],
   "source": [
    "config = load_config_from_yaml(config_path, VariableRenamingConfig)\n",
    "\n",
    "# loading the model\n",
    "max_seq_len = config.num_renames * 4\n",
    "model = MultilayerTransformer(\n",
    "    vocab_size=39,\n",
    "    d_model=config.dim_model,\n",
    "    n_heads=config.num_heads,\n",
    "    n_layers=config.num_layers,\n",
    ")\n",
    "load_checkpoint(ckpt_path, model, None, \"cuda\")\n",
    "\n",
    "# loading the prompter\n",
    "prompter = VariableRenamingPrompter(config)"
   ]
  },
  {
   "cell_type": "code",
   "execution_count": null,
   "metadata": {},
   "outputs": [],
   "source": [
    "# printing out the prompt, pred (per token), and true answer\n",
    "rng = np.random.default_rng(42)\n",
    "prompt, answer, metadata = prompter.get_prompt(rng)\n",
    "x = torch.tensor(prompter.tokenize(prompt)).unsqueeze(0)\n",
    "logits, attn_weights, _= model.forward(x, return_attn_weights=True)\n",
    "pred = prompter.detokenize(logits[0].argmax(dim=-1).tolist())\n",
    "\n",
    "print(\"prompt: \", prompt)\n",
    "print(\"pred:   \", pred)\n",
    "print(\"answer: \", answer)\n"
   ]
  },
  {
   "cell_type": "code",
   "execution_count": 7,
   "metadata": {},
   "outputs": [],
   "source": [
    "# getting batchless np attn weights and plotting\n",
    "weights = [attn_weight.detach().cpu().numpy()[0] for attn_weight in attn_weights]\n",
    "plotly_fig = get_fig(weights, list(prompt))"
   ]
  },
  {
   "cell_type": "code",
   "execution_count": null,
   "metadata": {},
   "outputs": [],
   "source": [
    "plotly_fig.show()"
   ]
  },
  {
   "cell_type": "code",
   "execution_count": null,
   "metadata": {},
   "outputs": [],
   "source": [
    "# With matplotlib, plot attention weights over layers and heads\n",
    "\n",
    "# token_labels = list(prompt)\n",
    "# num_layers = len(attn_weights)\n",
    "# num_heads = config.num_heads\n",
    "# total_heads = num_layers * num_heads\n",
    "\n",
    "# rows = num_layers\n",
    "# cols = num_heads\n",
    "# fig, axes = plt.subplots(rows, cols, figsize=(cols * 5, rows * 5), squeeze=False)\n",
    "\n",
    "# head_idx = 0\n",
    "# for layer_idx, attn_weight_heads in enumerate(attn_weights):\n",
    "#     for head_number in range(num_heads):\n",
    "#         row = head_idx // cols\n",
    "#         col = head_idx % cols\n",
    "#         ax = axes[row][col]\n",
    "\n",
    "#         attn_weight = attn_weight_heads[0, head_number].detach().cpu().numpy()\n",
    "#         im = ax.imshow(attn_weight, cmap=\"viridis\")\n",
    "\n",
    "#         ax.set_title(f\"L{layer_idx}H{head_number}\", fontsize=20)\n",
    "\n",
    "#         ax.set_xticks(range(len(token_labels)))\n",
    "#         ax.set_xticklabels(token_labels, fontsize=7)\n",
    "#         ax.set_yticks(range(len(token_labels)))\n",
    "#         ax.set_yticklabels(token_labels, fontsize=7)\n",
    "\n",
    "#         head_idx += 1\n",
    "\n",
    "# # Hide any unused subplots\n",
    "# for i in range(head_idx, rows * cols):\n",
    "#     fig.delaxes(axes[i // cols][i % cols])\n",
    "\n",
    "# fig.suptitle(\"Attention Weights by Layer and Head\", fontsize=25)\n",
    "# plt.tight_layout(rect=[0, 0, 1, 0.95])\n",
    "# plt.show()\n"
   ]
  },
  {
   "cell_type": "code",
   "execution_count": null,
   "metadata": {},
   "outputs": [],
   "source": []
  }
 ],
 "metadata": {
  "kernelspec": {
   "display_name": "ila",
   "language": "python",
   "name": "python3"
  },
  "language_info": {
   "codemirror_mode": {
    "name": "ipython",
    "version": 3
   },
   "file_extension": ".py",
   "mimetype": "text/x-python",
   "name": "python",
   "nbconvert_exporter": "python",
   "pygments_lexer": "ipython3",
   "version": "3.11.13"
  }
 },
 "nbformat": 4,
 "nbformat_minor": 2
}

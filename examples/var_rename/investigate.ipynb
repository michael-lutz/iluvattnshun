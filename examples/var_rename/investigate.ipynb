{
 "cells": [
  {
   "cell_type": "markdown",
   "metadata": {},
   "source": [
    "# Investigating Variable Renaming\n",
    "The goal of this notebook is to understand the mechanism by which a transformer\n",
    "learns to evaluate variable renamings across various depths.\n",
    "\n",
    "### Analysis\n",
    "1) Staring at attention weights\n",
    "2) Patching at various depths\n",
    "3) Examining embeddings\n",
    "\n",
    "- Maybe do some SVD or PCA to visualize embeddings?\n",
    "\n",
    "### Hypotheses\n",
    "- I think the model mostly duplicates information that must be retrieved later\n",
    "- The model likely guesses behind using different heads\n",
    "- The model probably just attends to a bunch at the same time\n",
    "- Input embeddings are likely very orthogonal"
   ]
  },
  {
   "cell_type": "markdown",
   "metadata": {},
   "source": []
  }
 ],
 "metadata": {
  "language_info": {
   "name": "python"
  }
 },
 "nbformat": 4,
 "nbformat_minor": 2
}
